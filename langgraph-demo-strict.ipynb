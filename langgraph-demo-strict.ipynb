{
 "cells": [
  {
   "cell_type": "code",
   "execution_count": 1,
   "metadata": {},
   "outputs": [],
   "source": [
    "import json\n",
    "from typing import Dict\n",
    "from typing_extensions import TypedDict\n",
    "from dotenv import load_dotenv\n",
    "\n",
    "from langchain_community.tools.tavily_search import TavilySearchResults\n",
    "from langchain_core.messages import BaseMessage, HumanMessage, SystemMessage, AIMessage\n",
    "from langchain_openai import ChatOpenAI\n",
    "\n",
    "from langgraph.graph import StateGraph, START, END"
   ]
  },
  {
   "cell_type": "code",
   "execution_count": 2,
   "metadata": {},
   "outputs": [
    {
     "data": {
      "text/plain": [
       "True"
      ]
     },
     "execution_count": 2,
     "metadata": {},
     "output_type": "execute_result"
    }
   ],
   "source": [
    "load_dotenv()"
   ]
  },
  {
   "cell_type": "code",
   "execution_count": 3,
   "metadata": {},
   "outputs": [],
   "source": [
    "search_query_llm = ChatOpenAI(\n",
    "    model_name=\"gpt-4\", \n",
    "    temperature=0.7,\n",
    ")\n",
    "\n",
    "researcher_llm = ChatOpenAI(\n",
    "    model_name=\"gpt-4\", \n",
    "    temperature=0.7,\n",
    ")\n",
    "\n",
    "recommend_llm = ChatOpenAI(\n",
    "    model_name=\"gpt-4\",\n",
    "    temperature=0.7,\n",
    ")"
   ]
  },
  {
   "cell_type": "code",
   "execution_count": 4,
   "metadata": {},
   "outputs": [],
   "source": [
    "# Define the state schema - the keeps track of the conversation history of all agents\n",
    "class AppState(TypedDict):\n",
    "    messages: list[BaseMessage]"
   ]
  },
  {
   "cell_type": "code",
   "execution_count": null,
   "metadata": {},
   "outputs": [],
   "source": [
    "# Initialize Tavily search tool - explain how the agents can use numerous different tools\n",
    "search = TavilySearchResults(\n",
    "    max_results=6,\n",
    "    search_depth=\"basic\",\n",
    "    exclude_domains=[\"www.tripadvisor.com\", \"www.tripadvisor.co.uk\", \"www.tripadvisor.ca\"],\n",
    "    )"
   ]
  },
  {
   "cell_type": "code",
   "execution_count": null,
   "metadata": {},
   "outputs": [],
   "source": [
    "# Define the search query & tool-calling node\n",
    "def search_tool(state: Dict) -> Dict:\n",
    "    \"\"\"\n",
    "    Refines the user's vacation preferences into a specific search query and retrieves search results.\n",
    "\n",
    "    Args:\n",
    "        state (Dict): The current state of the conversation, including messages.\n",
    "\n",
    "    Returns:\n",
    "        Dict: The updated state with the search results appended to the messages.\n",
    "    \"\"\"\n",
    "    messages = state[\"messages\"]\n",
    "    # First use LLM to refine the search query\n",
    "    refine_messages = [\n",
    "        SystemMessage(content='''\n",
    "            You are a search query specialist. Your task is to reformulate user \n",
    "            vacation preferences into specific, targeted search terms that will yield the most relevant vacation destinations.\n",
    "            Return only the search query, nothing else.'''),\n",
    "\n",
    "        HumanMessage(content=f\"Convert this request into a specific internet search query: {messages[-1].content}\")\n",
    "    ]\n",
    "\n",
    "    refined_query = search_query_llm.invoke(refine_messages).content\n",
    "    print(f'\\n====REFINED QUERY=====\\n{refined_query}')\n",
    "    \n",
    "    # Use refined query with Tavily\n",
    "    search_results = search.invoke({\n",
    "        \"query\": refined_query,\n",
    "        \"search_depth\": \"advanced\"\n",
    "    })\n",
    "    \n",
    "    formatted_results = json.dumps(search_results, indent=2)\n",
    "    messages.append(AIMessage(content=(formatted_results)))\n",
    "    print(f'\\n====SEARCH TOOL RESULTS=====\\n{formatted_results}')\n",
    "    return {\"messages\": messages}"
   ]
  },
  {
   "cell_type": "code",
   "execution_count": 7,
   "metadata": {},
   "outputs": [],
   "source": [
    "# Define the research node\n",
    "def research(state: Dict) -> Dict:\n",
    "    \"\"\"\n",
    "    Analyzes search results and extracts key findings about vacation destinations.\n",
    "    \n",
    "    Args:\n",
    "        state (Dict): The current state of the conversation, including messages.\n",
    "    \n",
    "    Returns:\n",
    "        Dict: The updated state with the research findings appended to the messages.\n",
    "    \"\"\"\n",
    "    messages = state[\"messages\"]\n",
    "    research_messages = [\n",
    "        SystemMessage(content='''\n",
    "            You are an expert vacation planner and research analyst. Analyze the provided search results and extract key vacation \n",
    "            destinations along with detailed information about what they offer. \n",
    "            \n",
    "            For each destination, please include:\n",
    "            - **Destination Name**: The name or location of the vacation spot.\n",
    "            - **Key Features**: Unique attractions or benefits (e.g., scenic views, cultural sites, adventure activities).\n",
    "            - **Amenities & Activities**: Information on accommodations, dining, recreational activities, and local experiences.\n",
    "            - **Pros & Cons**: Brief evaluation points that can help in deciding if the destination fits various user preferences.\n",
    "            - **Actionable Tips**: Recommendations for planning a visit (e.g., best time to visit, must-see attractions, local travel tips).\n",
    "            \n",
    "            Organize your response into clear sections for each destination. Use bullet points or headings where appropriate for clarity.\n",
    "        '''),\n",
    "        *messages\n",
    "    ]\n",
    "    response = researcher_llm.invoke(research_messages)\n",
    "    print(f'\\n=====RESEARCH AGENT NODE=====\\n{response}')\n",
    "    return {\"messages\": messages + [response]}\n"
   ]
  },
  {
   "cell_type": "code",
   "execution_count": 8,
   "metadata": {},
   "outputs": [],
   "source": [
    "# Define the explain node\n",
    "def recommend(state: Dict) -> Dict:\n",
    "    \"\"\"\n",
    "    Provides professional recommendations for vacation destinations based on research findings.\n",
    "    \n",
    "    Args:\n",
    "        state (Dict): The current state of the conversation, including messages.\n",
    "    \n",
    "    Returns:\n",
    "        Dict: The updated state with the recommendations appended to the messages.\n",
    "    \"\"\"\n",
    "    messages = state[\"messages\"]\n",
    "    recommendation_messages = [\n",
    "        SystemMessage(content='''\n",
    "            You are an expert vacation planner known for providing clear and professional recommendations.\n",
    "            \n",
    "            Based on the research findings provided, please perform the following tasks:\n",
    "            1. Identify and rank the top vacation destinations that best meet the user's query.\n",
    "            2. For each top destination, provide:\n",
    "                - **Destination Name**: The vacation spot's name or location.\n",
    "                - **Information**: A detailed explanation of why this destination is ideal, including unique features, amenities, and any standout attractions.\n",
    "                - **Recommendations**: Actionable tips or suggestions for planning a visit, such as the best time to travel, local must-see attractions, and any insider advice.\n",
    "                \n",
    "            Organize your response in a clear, structured format (using headings or bullet points) to ensure it is easy to understand.\n",
    "            Be as detailed and informative as necessary, as a travel agent would be when providing a recommendation to a client.\n",
    "        '''),\n",
    "        *messages\n",
    "    ]\n",
    "    response = recommend_llm.invoke(recommendation_messages)\n",
    "    print(f\"\\n=====TRAVEL AGENT NODE====={response}\")\n",
    "    return {\"messages\": messages + [response]}"
   ]
  },
  {
   "cell_type": "code",
   "execution_count": 9,
   "metadata": {},
   "outputs": [
    {
     "data": {
      "text/plain": [
       "<langgraph.graph.state.StateGraph at 0x106572780>"
      ]
     },
     "execution_count": 9,
     "metadata": {},
     "output_type": "execute_result"
    }
   ],
   "source": [
    "# Build the graph\n",
    "graph = StateGraph(AppState)\n",
    "graph.add_node(\"search\", search_tool)\n",
    "graph.add_node(\"research\", research)\n",
    "graph.add_node(\"recommend\", recommend)\n",
    "\n",
    "# Define the edges\n",
    "graph.set_entry_point(\"search\")\n",
    "graph.add_edge(\"search\", \"research\")\n",
    "graph.add_edge(\"research\", \"recommend\")\n",
    "graph.add_edge(\"recommend\", END)"
   ]
  },
  {
   "cell_type": "code",
   "execution_count": 10,
   "metadata": {},
   "outputs": [
    {
     "name": "stdout",
     "output_type": "stream",
     "text": [
      "\n",
      "====REFINED QUERY=====\n",
      "\"Best relaxing spa resorts in desert locations\"\n",
      "\n",
      "====SEARCH TOOL RESULTS=====\n",
      "[\n",
      "  {\n",
      "    \"url\": \"https://www.visitcalifornia.com/experience/5-relaxing-desert-spas/\",\n",
      "    \"content\": \"3. Spa La Quinta, La Quinta Resort Just walking through this tranquil resort is enough to make you break up with your to-do list, but once your chosen treatment begins\\u2014agave nectar body therapy, desert-inspired facial, or \\\"wine-down\\\" massage\\u2014you'll cast off any lingering cares.\"\n",
      "  },\n",
      "  {\n",
      "    \"url\": \"https://unifycosmos.com/desert-spa-resorts-for-a-unique-wellness-journey/\",\n",
      "    \"content\": \"Desert spa resorts offer a unique wellness journey, combining the healing power of nature with modern comforts, perfect for those seeking relaxation and rejuvenation in an unforgettable setting. The resort\\u2019s Satori Spa offers a range of rejuvenating treatments, including the Signature Desert Massage, which uses heated sand and essential oils to relax the muscles and soothe the skin. Set against the backdrop of the Santa Rosa Mountains in the Coachella Valley, La Quinta Resort & Club offers a desert spa experience that blends luxury with natural beauty. The resort\\u2019s extensive wellness offerings include outdoor yoga, meditation, and guided hikes through the desert, making it a perfect retreat for relaxation and rejuvenation.\"\n",
      "  },\n",
      "  {\n",
      "    \"url\": \"https://deserthotsprings.spahotel.io/\",\n",
      "    \"content\": \"These natural resources have inspired a wide array of spa hotels that provide guests with a relaxing environment to unwind and rejuvenate. The serene desert landscape, combined with the soothing effects of the hot springs, creates an idyllic setting for those seeking wellness and relaxation.In addition to the natural hot springs, Desert Hot\"\n",
      "  },\n",
      "  {\n",
      "    \"url\": \"https://www.lightfoottravel.com/travelbylightfoot/best-desert-spas\",\n",
      "    \"content\": \"The Amangiri 2,322-square metre spa in the Utah desert comprises spa pavilions, treatment rooms and therapies and offers such pampering treats as massages, scrubs, wraps and floatation therapy. Enjoy the Hozho Tandem Massage, where two therapist work in harmony to lull your body into a state of relaxation or the Red Clay Wrap.\"\n",
      "  }\n",
      "]\n",
      "\n",
      "=====RESEARCH AGENT NODE=====\n",
      "content='**Destination 1: Spa La Quinta, La Quinta Resort, California**\\n\\n- **Key Features**: Tranquil resort setting, desert-inspired treatments, and a variety of unique therapies (e.g., agave nectar body therapy, \"wine-down\" massage).\\n- **Amenities & Activities**: The resort offers numerous wellness treatments, dining options, and a serene environment conducive to relaxation.\\n- **Pros**: Wide range of unique spa treatments; relaxing, tranquil environment; easily accessible in California.\\n- **Cons**: Might not offer the level of adventure or outdoor activities some visitors prefer.\\n- **Actionable Tips**: Book treatments in advance to ensure availability; take time to explore the resort grounds.\\n\\n**Destination 2: La Quinta Resort & Club, Coachella Valley, California**\\n\\n- **Key Features**: Set against the Santa Rosa Mountains, this resort offers a unique desert spa experience.\\n- **Amenities & Activities**: The resort offers wellness activities like outdoor yoga, meditation, guided hikes, and the Signature Desert Massage at their Satori Spa.\\n- **Pros**: Combines luxury with natural beauty; provides a wide range of wellness activities.\\n- **Cons**: The desert location might not be for everyone; it might get very hot during summer months.\\n- **Actionable Tips**: Consider visiting during cooler months; make sure to try the Signature Desert Massage.\\n\\n**Destination 3: Desert Hot Springs, California**\\n\\n- **Key Features**: This location is rich in natural hot springs, providing a unique wellness experience in a desert environment.\\n- **Amenities & Activities**: Offers a wide array of spa hotels, each with their own unique offerings; the hot springs themselves are a must-try.\\n- **Pros**: The natural hot springs make for a unique spa experience; the serene desert landscape provides an idyllic setting for relaxation.\\n- **Cons**: Limited range of activities outside of the spa and wellness offerings.\\n- **Actionable Tips**: Research and book the spa hotel that best fits your preferences; don\\'t miss out on the hot springs.\\n\\n**Destination 4: Amangiri Spa, Utah**\\n\\n- **Key Features**: Large spa set in the Utah desert, offering treatments like massages, scrubs, wraps, and floatation therapy.\\n- **Amenities & Activities**: Besides the extensive spa offerings, guests may enjoy the unique desert landscape.\\n- **Pros**: Unique desert location; extensive range of spa treatments.\\n- **Cons**: Remote location might be less accessible; might lack variety in activities beyond the spa.\\n- **Actionable Tips**: Try the Red Clay Wrap or Hozho Tandem Massage; plan travel arrangements in advance due to the remote location.\\n' additional_kwargs={'refusal': None} response_metadata={'token_usage': {'completion_tokens': 542, 'prompt_tokens': 683, 'total_tokens': 1225, 'completion_tokens_details': {'accepted_prediction_tokens': 0, 'audio_tokens': 0, 'reasoning_tokens': 0, 'rejected_prediction_tokens': 0}, 'prompt_tokens_details': {'audio_tokens': 0, 'cached_tokens': 0}}, 'model_name': 'gpt-4-0613', 'system_fingerprint': None, 'finish_reason': 'stop', 'logprobs': None} id='run-565f257a-7cc5-40ad-ab56-70c193b14ffb-0' usage_metadata={'input_tokens': 683, 'output_tokens': 542, 'total_tokens': 1225, 'input_token_details': {'audio': 0, 'cache_read': 0}, 'output_token_details': {'audio': 0, 'reasoning': 0}}\n",
      "\n",
      "=====TRAVEL AGENT NODE=====content='**1. Amangiri Spa, Utah**\\n   - **Information**: The Amangiri Spa, located within the starkly beautiful Utah desert, offers an extensive 2,322-square meter wellness space. The spa provides a range of treatments such as massages, scrubs, wraps, and even unique therapies like floatation. The Hozho Tandem Massage, where two therapists work in harmony, and the Red Clay Wrap stand out as signature treatments.\\n   - **Recommendations**: It\\'s best to book treatments in advance. Also, consider exploring the surrounding desert landscape for a complete experience.\\n   \\n**2. La Quinta Resort & Club, Coachella Valley, California**\\n   - **Information**: Nestled against the backdrop of the Santa Rosa Mountains, the La Quinta Resort & Club combines luxury with the natural beauty of the desert. It offers wellness activities such as outdoor yoga, meditation, guided hikes, and rejuvenating treatments at the Satori Spa, including the Signature Desert Massage.\\n   - **Recommendations**: Visiting during the cooler months would provide a comfortable experience. Make sure to try the Signature Desert Massage and participate in the wellness activities.\\n\\n**3. Spa La Quinta, La Quinta Resort, California**\\n   - **Information**: Spa La Quinta, located within the La Quinta Resort, is renowned for its tranquil atmosphere and unique treatments. These include agave nectar body therapy, desert-inspired facial, and a \"wine-down\" massage, all of which help guests cast off any lingering stresses.\\n   - **Recommendations**: Booking treatments in advance would ensure availability. Exploring the resort grounds would also enhance the overall experience.\\n\\n**4. Desert Hot Springs, California**\\n   - **Information**: Desert Hot Springs is known for its natural hot springs and serene desert landscape. Numerous spa hotels in the area offer their own unique wellness experiences, making it a perfect destination for relaxation and rejuvenation.\\n   - **Recommendations**: Researching and booking the spa hotel that fits your preferences in advance would be advisable. Don\\'t miss out on experiencing the natural hot springs.' additional_kwargs={'refusal': None} response_metadata={'token_usage': {'completion_tokens': 423, 'prompt_tokens': 1235, 'total_tokens': 1658, 'completion_tokens_details': {'accepted_prediction_tokens': 0, 'audio_tokens': 0, 'reasoning_tokens': 0, 'rejected_prediction_tokens': 0}, 'prompt_tokens_details': {'audio_tokens': 0, 'cached_tokens': 0}}, 'model_name': 'gpt-4-0613', 'system_fingerprint': None, 'finish_reason': 'stop', 'logprobs': None} id='run-ee25b48f-44ee-46cb-bb47-5139174e364c-0' usage_metadata={'input_tokens': 1235, 'output_tokens': 423, 'total_tokens': 1658, 'input_token_details': {'audio': 0, 'cache_read': 0}, 'output_token_details': {'audio': 0, 'reasoning': 0}}\n",
      "**1. Amangiri Spa, Utah**\n",
      "   - **Information**: The Amangiri Spa, located within the starkly beautiful Utah desert, offers an extensive 2,322-square meter wellness space. The spa provides a range of treatments such as massages, scrubs, wraps, and even unique therapies like floatation. The Hozho Tandem Massage, where two therapists work in harmony, and the Red Clay Wrap stand out as signature treatments.\n",
      "   - **Recommendations**: It's best to book treatments in advance. Also, consider exploring the surrounding desert landscape for a complete experience.\n",
      "   \n",
      "**2. La Quinta Resort & Club, Coachella Valley, California**\n",
      "   - **Information**: Nestled against the backdrop of the Santa Rosa Mountains, the La Quinta Resort & Club combines luxury with the natural beauty of the desert. It offers wellness activities such as outdoor yoga, meditation, guided hikes, and rejuvenating treatments at the Satori Spa, including the Signature Desert Massage.\n",
      "   - **Recommendations**: Visiting during the cooler months would provide a comfortable experience. Make sure to try the Signature Desert Massage and participate in the wellness activities.\n",
      "\n",
      "**3. Spa La Quinta, La Quinta Resort, California**\n",
      "   - **Information**: Spa La Quinta, located within the La Quinta Resort, is renowned for its tranquil atmosphere and unique treatments. These include agave nectar body therapy, desert-inspired facial, and a \"wine-down\" massage, all of which help guests cast off any lingering stresses.\n",
      "   - **Recommendations**: Booking treatments in advance would ensure availability. Exploring the resort grounds would also enhance the overall experience.\n",
      "\n",
      "**4. Desert Hot Springs, California**\n",
      "   - **Information**: Desert Hot Springs is known for its natural hot springs and serene desert landscape. Numerous spa hotels in the area offer their own unique wellness experiences, making it a perfect destination for relaxation and rejuvenation.\n",
      "   - **Recommendations**: Researching and booking the spa hotel that fits your preferences in advance would be advisable. Don't miss out on experiencing the natural hot springs.\n"
     ]
    }
   ],
   "source": [
    "# Define your function to run the graph\n",
    "def run_conversation(user_input: str):\n",
    "    \"\"\"\n",
    "    Runs the conversation graph with the given user input.\n",
    "    \n",
    "    Args:\n",
    "        user_input (str): The user's input message.\n",
    "    \n",
    "    Returns:\n",
    "        str: The final output message from the conversation.\n",
    "    \"\"\"\n",
    "    initial_state = {\n",
    "        \"messages\": [\n",
    "            HumanMessage(content=user_input)\n",
    "        ]\n",
    "    }\n",
    "    app = graph.compile()\n",
    "    output = app.invoke(initial_state)\n",
    "    return output[\"messages\"][-1].content\n",
    "\n",
    "result = run_conversation(\"Im looking for a relaxing spa vacation in a bleak desert environment\")\n",
    "print(result)"
   ]
  }
 ],
 "metadata": {
  "kernelspec": {
   "display_name": ".venv",
   "language": "python",
   "name": "python3"
  },
  "language_info": {
   "codemirror_mode": {
    "name": "ipython",
    "version": 3
   },
   "file_extension": ".py",
   "mimetype": "text/x-python",
   "name": "python",
   "nbconvert_exporter": "python",
   "pygments_lexer": "ipython3",
   "version": "3.12.3"
  }
 },
 "nbformat": 4,
 "nbformat_minor": 2
}
