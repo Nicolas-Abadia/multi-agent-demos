{
 "cells": [
  {
   "cell_type": "markdown",
   "metadata": {},
   "source": [
    "#### Integrate ChatGPT in your code! ###\n",
    "\n",
    "https://platform.openai.com/chat-completions\n",
    "\n",
    "### Use Tavily Search tool ###\n",
    "\n",
    "https://tavily.com/\n"
   ]
  },
  {
   "cell_type": "code",
   "execution_count": 2,
   "metadata": {},
   "outputs": [],
   "source": [
    "import json\n",
    "from typing import Dict\n",
    "from typing_extensions import TypedDict\n",
    "from dotenv import load_dotenv\n",
    "\n",
    "from langchain_community.tools.tavily_search import TavilySearchResults\n",
    "from langchain_core.messages import BaseMessage, HumanMessage, SystemMessage, AIMessage\n",
    "from langchain_openai import ChatOpenAI\n",
    "\n",
    "from langgraph.graph import StateGraph, START, END"
   ]
  },
  {
   "cell_type": "code",
   "execution_count": 3,
   "metadata": {},
   "outputs": [
    {
     "data": {
      "text/plain": [
       "True"
      ]
     },
     "execution_count": 3,
     "metadata": {},
     "output_type": "execute_result"
    }
   ],
   "source": [
    "load_dotenv()"
   ]
  },
  {
   "cell_type": "code",
   "execution_count": 4,
   "metadata": {},
   "outputs": [],
   "source": [
    "search_query_llm = ChatOpenAI(\n",
    "    model_name=\"gpt-4\", \n",
    "    temperature=0.7,\n",
    ")\n",
    "\n",
    "researcher_llm = ChatOpenAI(\n",
    "    model_name=\"gpt-4\", \n",
    "    temperature=0.7,\n",
    ")\n",
    "\n",
    "recommend_llm = ChatOpenAI(\n",
    "    model_name=\"gpt-4\",\n",
    "    temperature=0.7,\n",
    ")"
   ]
  },
  {
   "cell_type": "code",
   "execution_count": null,
   "metadata": {},
   "outputs": [],
   "source": [
    "# Define the state schema - the keeps track of the conversation history of all agents\n",
    "class AppState(TypedDict): # Ensures that the state is of type Dict\n",
    "    messages: list[BaseMessage] # ensures that the messages are of type BaseMessage"
   ]
  },
  {
   "cell_type": "code",
   "execution_count": null,
   "metadata": {},
   "outputs": [],
   "source": [
    "# Initialize Tavily search tool - explain how the agents can use numerous different tools\n",
    "search = TavilySearchResults(\n",
    "    max_results=7,\n",
    "    search_depth=\"basic\",\n",
    "    exclude_domains=[\"www.tripadvisor.com\", \"www.tripadvisor.co.uk\", \"www.tripadvisor.ca\", \"www.tripadvisor.in\"],\n",
    "    )"
   ]
  },
  {
   "cell_type": "code",
   "execution_count": null,
   "metadata": {},
   "outputs": [],
   "source": [
    "def search_tool(state: Dict) -> Dict:\n",
    "    \"\"\"\n",
    "    Refines the user's vacation preferences into a specific search query and retrieves search results.\n",
    "\n",
    "    Args:\n",
    "        state (Dict): The current state of the conversation, including messages.\n",
    "\n",
    "    Returns:\n",
    "        Dict: The updated state with the search results appended to the messages.\n",
    "    \"\"\"\n",
    "    messages = state[\"messages\"]\n",
    "    \n",
    "    # First use LLM to refine the search query\n",
    "    refine_messages = [\n",
    "        SystemMessage(content=\"\"\"\n",
    "            You are a search query specialist.\n",
    "            \n",
    "            Your task is to reformulate user vacation preferences into specific, \n",
    "            targeted search terms that will yield the most relevant vacation destinations.\n",
    "                      \n",
    "            Return only the search query, nothing else.\"\"\"),\n",
    "\n",
    "        HumanMessage(content=f\"\"\"\n",
    "            Convert this request into a specific internet search query: \n",
    "            {messages[-1].content}\"\"\")\n",
    "    ]\n",
    "\n",
    "    refined_query = search_query_llm.invoke(refine_messages).content\n",
    "    \n",
    "    # Strip quotation marks from refined query\n",
    "    refined_query = refined_query.replace('\"', '')\n",
    "    print(f\"\\n==== REFINED QUERY ====\\n{refined_query}\")\n",
    "    \n",
    "    # Use refined query with Tavily for search\n",
    "    search_results = search.invoke({\n",
    "        \"query\": refined_query,\n",
    "    })\n",
    "    \n",
    "    # Format and add results to message history\n",
    "    formatted_results = json.dumps(search_results, indent=2)\n",
    "    messages.append(AIMessage(content=formatted_results))\n",
    "    \n",
    "    print(f\"\\n==== SEARCH TOOL RESULTS ====\\n{formatted_results}\")\n",
    "    \n",
    "    return {\"messages\": messages}"
   ]
  },
  {
   "cell_type": "code",
   "execution_count": null,
   "metadata": {},
   "outputs": [],
   "source": [
    "# Define the research node\n",
    "def research(state: Dict) -> Dict:\n",
    "    \"\"\"\n",
    "    Analyzes search results and extracts key findings about vacation destinations.\n",
    "    \n",
    "    Args:\n",
    "        state (Dict): The current state of the conversation, including messages.\n",
    "    \n",
    "    Returns:\n",
    "        Dict: The updated state with the research findings appended to the messages.\n",
    "    \"\"\"\n",
    "    messages = state[\"messages\"]\n",
    "    research_messages = [\n",
    "        SystemMessage(content='''\n",
    "            You are an expert vacation planner and research analyst using web content. Analyze the provided search results and extract key vacation \n",
    "            destinations along with detailed information about what they offer. \n",
    "            \n",
    "            For each destination, please include:\n",
    "            - **Destination Name**: The name or location of the vacation spot.\n",
    "            - **Key Features**: Unique attractions or benefits (e.g., scenic views, cultural sites, adventure activities).\n",
    "            - **Amenities & Activities**: Information on accommodations, dining, recreational activities, and local experiences.\n",
    "            - **Pros & Cons**: Brief evaluation points that can help in deciding if the destination fits various user preferences.\n",
    "            - **Actionable Tips**: Recommendations for planning a visit (e.g., best time to visit, must-see attractions, local travel tips).\n",
    "            \n",
    "            Organize your response into clear sections for each destination. Use bullet points or headings where appropriate for clarity.\n",
    "            Recommend only destinations that are found in the search results. \n",
    "        '''),\n",
    "        *messages # Transfer conversation history\n",
    "    ]\n",
    "    response = researcher_llm.invoke(research_messages)\n",
    "    print(f'\\n=====RESEARCH AGENT NODE=====\\n{response}')\n",
    "    return {\"messages\": messages + [response]}\n"
   ]
  },
  {
   "cell_type": "code",
   "execution_count": 9,
   "metadata": {},
   "outputs": [],
   "source": [
    "# Define the explain node\n",
    "def recommend(state: Dict) -> Dict:\n",
    "    \"\"\"\n",
    "    Provides professional recommendations for vacation destinations based on research findings.\n",
    "    \n",
    "    Args:\n",
    "        state (Dict): The current state of the conversation, including messages.\n",
    "    \n",
    "    Returns:\n",
    "        Dict: The updated state with the recommendations appended to the messages.\n",
    "    \"\"\"\n",
    "    messages = state[\"messages\"]\n",
    "    recommendation_messages = [\n",
    "        SystemMessage(content='''\n",
    "            You are an expert vacation planner known for providing clear and professional recommendations.\n",
    "            \n",
    "            Based on the research findings provided, please perform the following tasks:\n",
    "            1. Identify and rank the top vacation destinations that best meet the user's query.\n",
    "            2. For each top destination, provide:\n",
    "                - **Destination Name**: The vacation spot's name or location.\n",
    "                - **Information**: A detailed explanation of why this destination is ideal, including unique features, amenities, and any standout attractions.\n",
    "                - **Recommendations**: Actionable tips or suggestions for planning a visit, such as the best time to travel, local must-see attractions, and any insider advice.\n",
    "                \n",
    "            Organize your response in a clear, structured format (using headings or bullet points) to ensure it is easy to understand.\n",
    "            Be as detailed and informative as necessary, as a travel agent would be when providing a recommendation to a client.\n",
    "        '''),\n",
    "        *messages\n",
    "    ]\n",
    "    response = recommend_llm.invoke(recommendation_messages)\n",
    "    print(f\"\\n=====TRAVEL AGENT NODE====={response}\")\n",
    "    return {\"messages\": messages + [response]}"
   ]
  },
  {
   "cell_type": "code",
   "execution_count": 10,
   "metadata": {},
   "outputs": [
    {
     "data": {
      "text/plain": [
       "<langgraph.graph.state.StateGraph at 0x11c2ca090>"
      ]
     },
     "execution_count": 10,
     "metadata": {},
     "output_type": "execute_result"
    }
   ],
   "source": [
    "# Build the graph\n",
    "graph = StateGraph(AppState)\n",
    "graph.add_node(\"search\", search_tool)\n",
    "graph.add_node(\"research\", research)\n",
    "graph.add_node(\"recommend\", recommend)\n",
    "\n",
    "# Define the edges\n",
    "graph.set_entry_point(\"search\")\n",
    "graph.add_edge(\"search\", \"research\")\n",
    "graph.add_edge(\"research\", \"recommend\")\n",
    "graph.add_edge(\"recommend\", END)"
   ]
  },
  {
   "cell_type": "code",
   "execution_count": 11,
   "metadata": {},
   "outputs": [
    {
     "name": "stdout",
     "output_type": "stream",
     "text": [
      "\n",
      "==== REFINED QUERY ====\n",
      "Best relaxing spa resorts in desert locations\n",
      "\n",
      "==== SEARCH TOOL RESULTS ====\n",
      "[\n",
      "  {\n",
      "    \"url\": \"https://unifycosmos.com/desert-spa-resorts-for-a-unique-wellness-journey/\",\n",
      "    \"content\": \"The Spa La Quinta features treatments that incorporate desert botanicals, such as the Citrus and Sage Scrub and the Desert Rain Massage. The resort's extensive wellness offerings include outdoor yoga, meditation, and guided hikes through the desert, making it a perfect retreat for relaxation and rejuvenation.\"\n",
      "  },\n",
      "  {\n",
      "    \"url\": \"https://www.tripadvisor.in/HotelsList-California_Desert-Spa-Resorts-zfp31882881.html\",\n",
      "    \"content\": \"Spa Resorts in California Desert: Find 31932 traveller reviews, candid photos, and the top ranked Spa Resorts in California Desert on Tripadvisor. ... Best Spa Resorts in California Desert. ... \\\" We had a wonderful time playing bocce ball, relaxing by the firepits, lounging by the pools, and spending time rejuvenating at Spa Rosa, and the food\"\n",
      "  },\n",
      "  {\n",
      "    \"url\": \"https://www.tripadvisor.in/Hotels-g32293-zff13-Desert_Hot_Springs_Greater_Palm_Springs_California-Hotels.html\",\n",
      "    \"content\": \"Best Spa Resorts in Desert Hot Springs on Tripadvisor: Find 6,559 traveller reviews, 5,337 candid photos, and prices for 28 spa resorts in Desert Hot Springs, California. ... and the staff were so friendly and pleasant. If you want a relaxing and healing place to stay, the Spring Resort and Spa is where to go. \\\" Visit hotel website. 2. Onsen\"\n",
      "  },\n",
      "  {\n",
      "    \"url\": \"https://www.architecturaldigest.com/story/most-beautiful-desert-spas\",\n",
      "    \"content\": \"Here are AD's picks for the most beautiful desert spa destinations in America. Sanctuary on Camelback Mountain Resort & Spa, Paradise Valley, AZ Photo: Courtesy of Sanctuary on Camelback\"\n",
      "  },\n",
      "  {\n",
      "    \"url\": \"https://www.territorysupply.com/best-resorts-arizona\",\n",
      "    \"content\": \"Photo: Boulders Resort & Spa. Why you should stay: The best for an immersive desert experience with no shortage of outdoor activities. Location: Scottsdale Class: Five star Recent recognition: Best Hotel in Arizona, Travel + Leisure; Rates from: $318/night Massive granite boulders stand watch over this resort's 1,300 acres, a playground of sorts for those who know how much you can really do\"\n",
      "  },\n",
      "  {\n",
      "    \"url\": \"https://www.travelandleisure.com/best-spa-weekend-getaways-in-the-us-8409445\",\n",
      "    \"content\": \"She continues, telling Travel + Leisure, \\\"The staff at this property are exemplary; all of the guest services staff are friendly and helpful, and the practitioners are all experts in their field.\\\" This adults-only all-inclusive resort also offers dozens of incredible activities plus a desert-inspired spa with facilities \\u2014 including a serenity pool, hot tub, saunas, steam room, and relaxation lounge \\u2014 that are free to all guests. Fora travel advisor Karen Hart calls this luxury all-inclusive resort \\\"perfect for those seeking spa treatments, activity, nature, a mountainous setting, and farm-to-table dining.\\\" She continues, telling T+L that \\\"Everything is balanced here, with activities and services that go well beyond just the woo-woo of green juices and intense yoga practices.\\\" This 2023 World's Best Award recipient is most famous for its eponymous mineral-rich hot springs, which guests can soak in.\"\n",
      "  },\n",
      "  {\n",
      "    \"url\": \"https://roamandthrive.com/best-spa-resorts-in-arizona/\",\n",
      "    \"content\": \"Image courtesy of amara resort and spa. Amara Resort and Spa is an exceptional spa resort in Arizona. Located in the heart of Sedona and its stunningly picturesque red rock landscapes, Amara provides a serene and intimate atmosphere for an upscale spa getaway in Arizona.. The resort is elegantly crafted and rooms and suites boast individual balconies or patios, granting guests breathtaking\"\n",
      "  }\n",
      "]\n",
      "\n",
      "=====RESEARCH AGENT NODE=====\n",
      "content=\"**Destination Name**: Spa La Quinta, California\\n\\n**Key Features**: \\n- Offers treatments that incorporate desert botanicals, such as the Citrus and Sage Scrub and the Desert Rain Massage.\\n- Located in a desert environment offering a unique wellness journey.\\n\\n**Amenities & Activities**: \\n- Outdoor yoga, meditation, and guided hikes through the desert\\n- Dedicated spa for relaxation and rejuvenation\\n\\n**Pros & Cons**:\\n- Pros: Tranquil desert environment, unique spa treatments, wellness activities.\\n- Cons: May not be suitable for those seeking a vibrant city atmosphere or beach vacation.\\n\\n**Actionable Tips**: \\n- Ideal for a retreat focused on relaxation and wellness. \\n- Try the treatments that incorporate desert botanicals for a unique spa experience.\\n\\n---\\n\\n**Destination Name**: Sanctuary on Camelback Mountain Resort & Spa, Paradise Valley, Arizona\\n\\n**Key Features**: \\n- One of the most beautiful desert spa destinations in America.\\n- Located on Camelback Mountain providing scenic views.\\n\\n**Amenities & Activities**: \\n- Spa services in a desert environment\\n- Wellness activities surrounded by nature.\\n\\n**Pros & Cons**:\\n- Pros: Scenic location on a mountain, beautiful desert spa.\\n- Cons: May be inconvenient for those who prefer a central, urban location.\\n\\n**Actionable Tips**: \\n- Enjoy the blend of relaxation and adventure with spa services and mountain activities. \\n- Best for those seeking a tranquil yet scenic vacation.\\n\\n---\\n\\n**Destination Name**: The Boulders Resort & Spa, Scottsdale, Arizona\\n\\n**Key Features**: \\n- An immersive desert experience with no shortage of outdoor activities.\\n- Located amongst massive granite boulders, providing unique landscape.\\n\\n**Amenities & Activities**: \\n- Extensive spa services\\n- Outdoor activities on the resort's 1,300 acres.\\n\\n**Pros & Cons**:\\n- Pros: Offers a blend of adventure and relaxation, unique desert landscape.\\n- Cons: May not be suitable for those seeking an ocean or city-based vacation.\\n\\n**Actionable Tips**: \\n- Ideal for those looking for an active vacation combined with relaxation.\\n- Explore the resort's vast grounds for a unique desert adventure.\\n\\n---\\n\\n**Destination Name**: Amara Resort and Spa, Sedona, Arizona\\n\\n**Key Features**: \\n- Located in the heart of Sedona and its stunning red rock landscapes.\\n- Provides a serene and intimate atmosphere for an upscale spa getaway.\\n\\n**Amenities & Activities**: \\n- Spa services\\n- Rooms and suites with individual balconies or patios, offering breathtaking views.\\n\\n**Pros & Cons**:\\n- Pros: Intimate and serene atmosphere, stunning landscape views.\\n- Cons: May be less suitable for those seeking a vibrant nightlife or city environment.\\n\\n**Actionable Tips**: \\n- Ideal for a serene and upscale spa getaway.\\n- Enjoy the stunning views from your own balcony or patio.\" additional_kwargs={'refusal': None} response_metadata={'token_usage': {'completion_tokens': 579, 'prompt_tokens': 1092, 'total_tokens': 1671, 'completion_tokens_details': {'accepted_prediction_tokens': 0, 'audio_tokens': 0, 'reasoning_tokens': 0, 'rejected_prediction_tokens': 0}, 'prompt_tokens_details': {'audio_tokens': 0, 'cached_tokens': 0}}, 'model_name': 'gpt-4-0613', 'system_fingerprint': None, 'finish_reason': 'stop', 'logprobs': None} id='run-0fae7b2e-e6a5-4f86-8c89-e5c0b2bf4501-0' usage_metadata={'input_tokens': 1092, 'output_tokens': 579, 'total_tokens': 1671, 'input_token_details': {'audio': 0, 'cache_read': 0}, 'output_token_details': {'audio': 0, 'reasoning': 0}}\n",
      "\n",
      "=====TRAVEL AGENT NODE=====content=\"**1. Destination Name: Spa La Quinta, California**\\n   \\n   **Information**: Spa La Quinta is known for its treatments that incorporate desert botanicals, creating a unique and relaxing atmosphere. The resort's wellness offerings include outdoor yoga, meditation, and guided hikes through the desert, providing an ideal retreat for relaxation and rejuvenation. \\n\\n   **Recommendations**: The Citrus and Sage Scrub and the Desert Rain Massage are highly recommended. To fully enjoy the serene desert environment, consider participating in their wellness offerings such as outdoor yoga and guided desert hikes.\\n\\n**2. Destination Name: Sanctuary on Camelback Mountain Resort & Spa, Paradise Valley, Arizona**\\n\\n   **Information**: Recognized as one of the most beautiful desert spa destinations in America, Sanctuary on Camelback Mountain Resort & Spa offers a tranquil spa experience amidst stunning desert scenery.\\n\\n   **Recommendations**: This destination is perfect for those seeking a peaceful retreat. Enjoy the spa services and take the opportunity to explore the surrounding desert landscape.\\n\\n**3. Destination Name: The Boulders Resort & Spa, Scottsdale, Arizona**\\n\\n   **Information**: For an immersive desert experience, The Boulders Resort & Spa is a top choice. Massive granite boulders, a unique desert feature, surround the resort's extensive 1,300-acre property.\\n\\n   **Recommendations**: This destination is ideal for those who appreciate outdoor activities in addition to spa treatments. Enjoy the resort's many offerings, from relaxing spa treatments to outdoor adventures such as hiking.\\n\\n**4. Destination Name: Amara Resort and Spa, Sedona, Arizona**\\n\\n   **Information**: Amara Resort and Spa is an exceptional spa resort located in the heart of Sedona's stunningly picturesque red rock landscapes. The resort provides a serene and intimate atmosphere for an upscale spa getaway.\\n\\n   **Recommendations**: Make the most of your stay by indulging in the spa services and enjoying the breathtaking views from the individual balconies or patios in the rooms and suites. \\n\\n**5. Destination Name: Desert Hot Springs, California**\\n\\n   **Information**: Known for its spa resorts, Desert Hot Springs offers a healing and relaxing environment. The Spring Resort and Spa is a particularly recommended destination.\\n\\n   **Recommendations**: This is an ideal place for a relaxing and healing retreat. Make sure to visit the Spring Resort and Spa for a rejuvenating experience. \\n\\nIn conclusion, these top five destinations are perfect for a relaxing spa vacation in a desert environment. Consider the unique features, amenities, and standout attractions of each location when planning your visit.\" additional_kwargs={'refusal': None} response_metadata={'token_usage': {'completion_tokens': 515, 'prompt_tokens': 1665, 'total_tokens': 2180, 'completion_tokens_details': {'accepted_prediction_tokens': 0, 'audio_tokens': 0, 'reasoning_tokens': 0, 'rejected_prediction_tokens': 0}, 'prompt_tokens_details': {'audio_tokens': 0, 'cached_tokens': 0}}, 'model_name': 'gpt-4-0613', 'system_fingerprint': None, 'finish_reason': 'stop', 'logprobs': None} id='run-a1f3a766-6bae-4c9d-907d-f5ad9484db81-0' usage_metadata={'input_tokens': 1665, 'output_tokens': 515, 'total_tokens': 2180, 'input_token_details': {'audio': 0, 'cache_read': 0}, 'output_token_details': {'audio': 0, 'reasoning': 0}}\n",
      "**1. Destination Name: Spa La Quinta, California**\n",
      "   \n",
      "   **Information**: Spa La Quinta is known for its treatments that incorporate desert botanicals, creating a unique and relaxing atmosphere. The resort's wellness offerings include outdoor yoga, meditation, and guided hikes through the desert, providing an ideal retreat for relaxation and rejuvenation. \n",
      "\n",
      "   **Recommendations**: The Citrus and Sage Scrub and the Desert Rain Massage are highly recommended. To fully enjoy the serene desert environment, consider participating in their wellness offerings such as outdoor yoga and guided desert hikes.\n",
      "\n",
      "**2. Destination Name: Sanctuary on Camelback Mountain Resort & Spa, Paradise Valley, Arizona**\n",
      "\n",
      "   **Information**: Recognized as one of the most beautiful desert spa destinations in America, Sanctuary on Camelback Mountain Resort & Spa offers a tranquil spa experience amidst stunning desert scenery.\n",
      "\n",
      "   **Recommendations**: This destination is perfect for those seeking a peaceful retreat. Enjoy the spa services and take the opportunity to explore the surrounding desert landscape.\n",
      "\n",
      "**3. Destination Name: The Boulders Resort & Spa, Scottsdale, Arizona**\n",
      "\n",
      "   **Information**: For an immersive desert experience, The Boulders Resort & Spa is a top choice. Massive granite boulders, a unique desert feature, surround the resort's extensive 1,300-acre property.\n",
      "\n",
      "   **Recommendations**: This destination is ideal for those who appreciate outdoor activities in addition to spa treatments. Enjoy the resort's many offerings, from relaxing spa treatments to outdoor adventures such as hiking.\n",
      "\n",
      "**4. Destination Name: Amara Resort and Spa, Sedona, Arizona**\n",
      "\n",
      "   **Information**: Amara Resort and Spa is an exceptional spa resort located in the heart of Sedona's stunningly picturesque red rock landscapes. The resort provides a serene and intimate atmosphere for an upscale spa getaway.\n",
      "\n",
      "   **Recommendations**: Make the most of your stay by indulging in the spa services and enjoying the breathtaking views from the individual balconies or patios in the rooms and suites. \n",
      "\n",
      "**5. Destination Name: Desert Hot Springs, California**\n",
      "\n",
      "   **Information**: Known for its spa resorts, Desert Hot Springs offers a healing and relaxing environment. The Spring Resort and Spa is a particularly recommended destination.\n",
      "\n",
      "   **Recommendations**: This is an ideal place for a relaxing and healing retreat. Make sure to visit the Spring Resort and Spa for a rejuvenating experience. \n",
      "\n",
      "In conclusion, these top five destinations are perfect for a relaxing spa vacation in a desert environment. Consider the unique features, amenities, and standout attractions of each location when planning your visit.\n"
     ]
    }
   ],
   "source": [
    "# Define your function to run the graph\n",
    "def run_conversation(user_input: str):\n",
    "    \"\"\"\n",
    "    Runs the conversation graph with the given user input.\n",
    "    \n",
    "    Args:\n",
    "        user_input (str): The user's input message.\n",
    "    \n",
    "    Returns:\n",
    "        str: The final output message from the conversation.\n",
    "    \"\"\"\n",
    "    initial_state = {\n",
    "        \"messages\": [\n",
    "            HumanMessage(content=user_input)\n",
    "        ]\n",
    "    }\n",
    "    app = graph.compile()\n",
    "    output = app.invoke(initial_state)\n",
    "    return output[\"messages\"][-1].content\n",
    "\n",
    "result = run_conversation(\"Im looking for a relaxing spa vacation in a bleak desert environment\")\n",
    "print(result)"
   ]
  }
 ],
 "metadata": {
  "kernelspec": {
   "display_name": ".venv",
   "language": "python",
   "name": "python3"
  },
  "language_info": {
   "codemirror_mode": {
    "name": "ipython",
    "version": 3
   },
   "file_extension": ".py",
   "mimetype": "text/x-python",
   "name": "python",
   "nbconvert_exporter": "python",
   "pygments_lexer": "ipython3",
   "version": "3.12.3"
  }
 },
 "nbformat": 4,
 "nbformat_minor": 2
}
